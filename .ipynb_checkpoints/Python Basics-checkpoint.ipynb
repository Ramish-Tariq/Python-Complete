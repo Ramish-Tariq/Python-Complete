{
 "cells": [
  {
   "cell_type": "markdown",
   "id": "6e3b5884",
   "metadata": {},
   "source": [
    "# 1-Python introduction"
   ]
  },
  {
   "cell_type": "markdown",
   "id": "c9735446",
   "metadata": {},
   "source": [
    "<h2>What is Python?</h2>\n",
    "<p>Python is a popular programming language. It was created by Guido van Rossum, and released in 1991.</p>\n",
    "\n",
    "<h2>It is used for:</h2>\n",
    "<ul>\n",
    "<li>web development (server-side)</li>\n",
    "<li>software development</li>\n",
    "<li>mathematics</li>\n",
    "<li>system scripting</li>\n",
    "</ul>\n",
    "\n",
    "<h2>What can Python do?</h2>\n",
    "<ul>\n",
    "<li>Python can be used on a server to create web applications.</li>\n",
    "<li>Python can be used alongside software to create workflows.</li>\n",
    "<li>Python can connect to database systems. It can also read and modify files.</li>\n",
    "<li>Python can be used to handle big data and perform complex mathematics.</li>\n",
    "<li>Python can be used for rapid prototyping, or for production-ready software development.</li>\n",
    "</ul>   \n",
    "<h2>Why Python?</h2>\n",
    "<ul>\n",
    "<li>Python works on different platforms (Windows, Mac, Linux, Raspberry Pi, etc).</li>\n",
    "<li>Python has a simple syntax similar to the English language.</li>\n",
    "<li>Python has syntax that allows developers to write programs with fewer lines than some other programming languages.</li>\n",
    "<li>Python runs on an interpreter system, meaning that code can be executed as soon as it is written. This means that prototyping can be very quick.</li>\n",
    "<li>Python can be treated in a procedural way, an object-oriented way or a functional way.</li>\n",
    "\n",
    "<li>The most recent major version of Python is Python 3, which we shall be using in this tutorial. However, Python 2, although not being updated with anything other than security updates, is still quite popular.</li>\n",
    "<li>In this tutorial Python will be written in a text editor. It is possible to write Python in an Integrated Development Environment, such as Thonny, Pycharm, Netbeans or Eclipse which are particularly useful when managing larger collections of Python files.</li>\n",
    "<li>Python Syntax compared to other programming languages.</li>\n",
    "<li>Python was designed for readability, and has some similarities to the English language with influence from mathematics.</li>\n",
    "<li>Python uses new lines to complete a command, as opposed to other programming languages which often use semicolons or parentheses.</li>\n",
    "<li>Python relies on indentation, using whitespace, to define scope; such as the scope of loops, functions and classes. Other programming languages often use curly-brackets for this purpose.</li>\n",
    "    </ul>"
   ]
  },
  {
   "cell_type": "markdown",
   "id": "37486219",
   "metadata": {},
   "source": [
    "# 1-Python Setups"
   ]
  },
  {
   "cell_type": "code",
   "execution_count": null,
   "id": "d2a92755",
   "metadata": {},
   "outputs": [],
   "source": []
  }
 ],
 "metadata": {
  "kernelspec": {
   "display_name": "Python 3 (ipykernel)",
   "language": "python",
   "name": "python3"
  },
  "language_info": {
   "codemirror_mode": {
    "name": "ipython",
    "version": 3
   },
   "file_extension": ".py",
   "mimetype": "text/x-python",
   "name": "python",
   "nbconvert_exporter": "python",
   "pygments_lexer": "ipython3",
   "version": "3.11.5"
  }
 },
 "nbformat": 4,
 "nbformat_minor": 5
}
